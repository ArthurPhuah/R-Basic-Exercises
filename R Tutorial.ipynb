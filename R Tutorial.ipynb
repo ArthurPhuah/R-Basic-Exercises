{
 "cells": [
  {
   "cell_type": "markdown",
   "id": "acb3b558",
   "metadata": {
    "toc": true
   },
   "source": [
    "<h1>Table of Contents<span class=\"tocSkip\"></span></h1>\n",
    "<div class=\"toc\"><ul class=\"toc-item\"><li><span><a href=\"#R-Tutorial\" data-toc-modified-id=\"R-Tutorial-1\"><span class=\"toc-item-num\">1&nbsp;&nbsp;</span>R Tutorial</a></span><ul class=\"toc-item\"><li><span><a href=\"#About-the-Jupyter-Notebook-Interface\" data-toc-modified-id=\"About-the-Jupyter-Notebook-Interface-1.1\"><span class=\"toc-item-num\">1.1&nbsp;&nbsp;</span>About the Jupyter Notebook Interface</a></span></li><li><span><a href=\"#About-R\" data-toc-modified-id=\"About-R-1.2\"><span class=\"toc-item-num\">1.2&nbsp;&nbsp;</span>About R</a></span></li><li><span><a href=\"#What-is-a-package-in-R?\" data-toc-modified-id=\"What-is-a-package-in-R?-1.3\"><span class=\"toc-item-num\">1.3&nbsp;&nbsp;</span>What is a package in R?</a></span></li><li><span><a href=\"#Objectives-of-this-tutorial\" data-toc-modified-id=\"Objectives-of-this-tutorial-1.4\"><span class=\"toc-item-num\">1.4&nbsp;&nbsp;</span>Objectives of this tutorial</a></span></li><li><span><a href=\"#Lets-get-started...\" data-toc-modified-id=\"Lets-get-started...-1.5\"><span class=\"toc-item-num\">1.5&nbsp;&nbsp;</span>Lets get started...</a></span><ul class=\"toc-item\"><li><span><a href=\"#Understanding-the-basic-types\" data-toc-modified-id=\"Understanding-the-basic-types-1.5.1\"><span class=\"toc-item-num\">1.5.1&nbsp;&nbsp;</span>Understanding the basic types</a></span></li><li><span><a href=\"#Useful-dataframe-functions\" data-toc-modified-id=\"Useful-dataframe-functions-1.5.2\"><span class=\"toc-item-num\">1.5.2&nbsp;&nbsp;</span>Useful dataframe functions</a></span></li><li><span><a href=\"#Subsetting-a-dataframe\" data-toc-modified-id=\"Subsetting-a-dataframe-1.5.3\"><span class=\"toc-item-num\">1.5.3&nbsp;&nbsp;</span>Subsetting a dataframe</a></span></li><li><span><a href=\"#Performing-Data-Aggregation\" data-toc-modified-id=\"Performing-Data-Aggregation-1.5.4\"><span class=\"toc-item-num\">1.5.4&nbsp;&nbsp;</span>Performing Data Aggregation</a></span></li><li><span><a href=\"#Scatter-Matrix-Plot\" data-toc-modified-id=\"Scatter-Matrix-Plot-1.5.5\"><span class=\"toc-item-num\">1.5.5&nbsp;&nbsp;</span>Scatter Matrix Plot</a></span></li><li><span><a href=\"#Plotting-using-ggplot2\" data-toc-modified-id=\"Plotting-using-ggplot2-1.5.6\"><span class=\"toc-item-num\">1.5.6&nbsp;&nbsp;</span>Plotting using ggplot2</a></span></li></ul></li></ul></li></ul></div>"
   ]
  },
  {
   "cell_type": "markdown",
   "id": "328c065c",
   "metadata": {},
   "source": [
    "# R Tutorial"
   ]
  },
  {
   "cell_type": "markdown",
   "id": "ec5df48e",
   "metadata": {},
   "source": [
    "## About the Jupyter Notebook Interface"
   ]
  },
  {
   "cell_type": "markdown",
   "id": "2c098eae",
   "metadata": {},
   "source": [
    "In this notebook, we will go over the basics of how to use R in Jupyter Notebook. R can be used in two enviornments which are:\n",
    "- RStudio\n",
    "- Jupyter Notebok\n",
    "\n",
    "Jupyter Notebook is highly preffered because it provides us with an easy-to-use, interactive data science environment that doesn't only work as an integrated development environment (IDE), but also as a presentation or educational tool.\n",
    "\n",
    "To get familiar with the Jupyter Notebook Interface, please go over the following links:\n",
    "- Jupyter_Notebook_CheatSheet-1.pdf (saved in R Tutorial folder)\n",
    "- https://medium.com/edureka/jupyter-notebook-cheat-sheet-88f60d1aca7"
   ]
  },
  {
   "cell_type": "markdown",
   "id": "ba50ed97",
   "metadata": {},
   "source": [
    "## About R"
   ]
  },
  {
   "cell_type": "markdown",
   "id": "55eb4f17",
   "metadata": {},
   "source": [
    "R is a language for statistical computing and graphics. R provides a wide variety of statistical (linear and nonlinear modelling, classical statistical tests, time-series analysis, classification, clustering, …) and graphical techniques, and is highly extensible. One of R’s strengths is the ease with which well-designed publication-quality plots can be produced, including mathematical symbols and formulae where needed."
   ]
  },
  {
   "cell_type": "markdown",
   "id": "ef26d7f5",
   "metadata": {},
   "source": [
    "## What is a package in R?"
   ]
  },
  {
   "cell_type": "markdown",
   "id": "0f5dd471",
   "metadata": {},
   "source": [
    "In R, the fundamental unit of shareable code is the package. A package bundles together code, data, documentation, and tests, and is easy to share with others. This huge variety of packages is one of the reasons that R is so successful: the chances are that someone has already solved a problem that you’re working on, and you can benefit from their work by downloading their package.\n",
    "\n",
    "- You can install a package from CRAN with **install.packages(\"x\")**\n",
    "- You use them in R with **library(\"x\")**\n",
    "- You can get help on them with **help(package=\"x\")**"
   ]
  },
  {
   "cell_type": "markdown",
   "id": "4b9b1750",
   "metadata": {},
   "source": [
    "## Objectives of this tutorial"
   ]
  },
  {
   "cell_type": "markdown",
   "id": "23cabe7b",
   "metadata": {},
   "source": [
    "## Lets get started..."
   ]
  },
  {
   "cell_type": "markdown",
   "id": "69fd61f1",
   "metadata": {},
   "source": [
    "### Understanding the basic types"
   ]
  },
  {
   "cell_type": "markdown",
   "id": "6729afa8",
   "metadata": {},
   "source": [
    "R has 5 basic data types.\n",
    "\n",
    "- **character:** \"a\", \"swc\"\n",
    "- **numeric:** 2, 15.5\n",
    "- **integer:** 2L (the L tells R to store this as an integer)\n",
    "- **logical:** TRUE, FALSE\n",
    "- **complex:** 1+4i (complex numbers with real and imaginary parts)\n",
    "\n",
    "R has many data structures. These include\n",
    "\n",
    "- **atomic vector**\n",
    "- **list**\n",
    "- **matrix**\n",
    "- **data frame**\n",
    "- **factors**"
   ]
  },
  {
   "cell_type": "markdown",
   "id": "0d949b57",
   "metadata": {},
   "source": [
    "### Useful dataframe functions"
   ]
  },
  {
   "cell_type": "markdown",
   "id": "d0eb448f",
   "metadata": {},
   "source": [
    "- head() - shows first 6 rows\n",
    "- tail() - shows last 6 rows\n",
    "- dim() - returns the dimensions of data frame (i.e. number of rows and number of columns)\n",
    "- nrow() - number of rows\n",
    "- ncol() - number of columns\n",
    "- str() - structure of data frame - name, type and preview of data in each column\n",
    "- names() or colnames() - both show the names attribute for a data frame\n",
    "\n",
    "Lets apply the above learned concepts now:"
   ]
  },
  {
   "cell_type": "code",
   "execution_count": 1,
   "id": "c9ad1621",
   "metadata": {
    "ExecuteTime": {
     "end_time": "2021-09-16T13:27:29.244341Z",
     "start_time": "2021-09-16T13:27:29.191Z"
    }
   },
   "outputs": [
    {
     "data": {
      "text/html": [
       "<table>\n",
       "<thead><tr><th scope=col>id</th><th scope=col>x</th><th scope=col>y</th></tr></thead>\n",
       "<tbody>\n",
       "\t<tr><td>a   </td><td>1031</td><td>51  </td></tr>\n",
       "\t<tr><td>b   </td><td> 138</td><td>52  </td></tr>\n",
       "\t<tr><td>c   </td><td> 220</td><td>53  </td></tr>\n",
       "\t<tr><td>d   </td><td> 369</td><td>54  </td></tr>\n",
       "\t<tr><td>e   </td><td> 929</td><td>55  </td></tr>\n",
       "\t<tr><td>f   </td><td> 495</td><td>56  </td></tr>\n",
       "\t<tr><td>g   </td><td> 469</td><td>57  </td></tr>\n",
       "\t<tr><td>h   </td><td> 820</td><td>58  </td></tr>\n",
       "\t<tr><td>i   </td><td> 722</td><td>59  </td></tr>\n",
       "\t<tr><td>j   </td><td>1115</td><td>60  </td></tr>\n",
       "</tbody>\n",
       "</table>\n"
      ],
      "text/latex": [
       "\\begin{tabular}{r|lll}\n",
       " id & x & y\\\\\n",
       "\\hline\n",
       "\t a    & 1031 & 51  \\\\\n",
       "\t b    &  138 & 52  \\\\\n",
       "\t c    &  220 & 53  \\\\\n",
       "\t d    &  369 & 54  \\\\\n",
       "\t e    &  929 & 55  \\\\\n",
       "\t f    &  495 & 56  \\\\\n",
       "\t g    &  469 & 57  \\\\\n",
       "\t h    &  820 & 58  \\\\\n",
       "\t i    &  722 & 59  \\\\\n",
       "\t j    & 1115 & 60  \\\\\n",
       "\\end{tabular}\n"
      ],
      "text/markdown": [
       "\n",
       "| id | x | y |\n",
       "|---|---|---|\n",
       "| a    | 1031 | 51   |\n",
       "| b    |  138 | 52   |\n",
       "| c    |  220 | 53   |\n",
       "| d    |  369 | 54   |\n",
       "| e    |  929 | 55   |\n",
       "| f    |  495 | 56   |\n",
       "| g    |  469 | 57   |\n",
       "| h    |  820 | 58   |\n",
       "| i    |  722 | 59   |\n",
       "| j    | 1115 | 60   |\n",
       "\n"
      ],
      "text/plain": [
       "   id x    y \n",
       "1  a  1031 51\n",
       "2  b   138 52\n",
       "3  c   220 53\n",
       "4  d   369 54\n",
       "5  e   929 55\n",
       "6  f   495 56\n",
       "7  g   469 57\n",
       "8  h   820 58\n",
       "9  i   722 59\n",
       "10 j  1115 60"
      ]
     },
     "metadata": {},
     "output_type": "display_data"
    }
   ],
   "source": [
    "## We are creating a dataframe here, the first arguement (id) tells us that create a column which should have 1st 10 english \n",
    "## alphabets, 2nd argument tells that have 10 random numbers between 10 and 1,124\n",
    "## 3rd arguement tells that have all numbers from 51 to 60 by increment of 1\n",
    "df = data.frame(id = letters[1:10], x = sample(10:1124,10), y = 51:60)\n",
    "df"
   ]
  },
  {
   "cell_type": "code",
   "execution_count": 2,
   "id": "9528dcbe",
   "metadata": {
    "ExecuteTime": {
     "end_time": "2021-09-16T13:27:29.290320Z",
     "start_time": "2021-09-16T13:27:29.193Z"
    }
   },
   "outputs": [
    {
     "name": "stdout",
     "output_type": "stream",
     "text": [
      "'data.frame':\t10 obs. of  3 variables:\n",
      " $ id: Factor w/ 10 levels \"a\",\"b\",\"c\",\"d\",..: 1 2 3 4 5 6 7 8 9 10\n",
      " $ x : int  1031 138 220 369 929 495 469 820 722 1115\n",
      " $ y : int  51 52 53 54 55 56 57 58 59 60\n"
     ]
    }
   ],
   "source": [
    "## Lets investigate the datatypes now\n",
    "str(df)\n",
    "\n",
    "## We can see that id is \"Factor\" data type. Factors are used to represent categorical data.\n",
    "## For example, days of the week are considered to be factor but names of all students in class are not factors, that would be string\n",
    "## x, and y are string"
   ]
  },
  {
   "cell_type": "code",
   "execution_count": 3,
   "id": "c329eb48",
   "metadata": {
    "ExecuteTime": {
     "end_time": "2021-09-16T13:27:29.338298Z",
     "start_time": "2021-09-16T13:27:29.197Z"
    }
   },
   "outputs": [
    {
     "data": {
      "text/html": [
       "<table>\n",
       "<thead><tr><th scope=col>id</th><th scope=col>x</th><th scope=col>y</th></tr></thead>\n",
       "<tbody>\n",
       "\t<tr><td>a   </td><td>1031</td><td>51  </td></tr>\n",
       "\t<tr><td>b   </td><td> 138</td><td>52  </td></tr>\n",
       "\t<tr><td>c   </td><td> 220</td><td>53  </td></tr>\n",
       "\t<tr><td>d   </td><td> 369</td><td>54  </td></tr>\n",
       "\t<tr><td>e   </td><td> 929</td><td>55  </td></tr>\n",
       "\t<tr><td>f   </td><td> 495</td><td>56  </td></tr>\n",
       "</tbody>\n",
       "</table>\n"
      ],
      "text/latex": [
       "\\begin{tabular}{r|lll}\n",
       " id & x & y\\\\\n",
       "\\hline\n",
       "\t a    & 1031 & 51  \\\\\n",
       "\t b    &  138 & 52  \\\\\n",
       "\t c    &  220 & 53  \\\\\n",
       "\t d    &  369 & 54  \\\\\n",
       "\t e    &  929 & 55  \\\\\n",
       "\t f    &  495 & 56  \\\\\n",
       "\\end{tabular}\n"
      ],
      "text/markdown": [
       "\n",
       "| id | x | y |\n",
       "|---|---|---|\n",
       "| a    | 1031 | 51   |\n",
       "| b    |  138 | 52   |\n",
       "| c    |  220 | 53   |\n",
       "| d    |  369 | 54   |\n",
       "| e    |  929 | 55   |\n",
       "| f    |  495 | 56   |\n",
       "\n"
      ],
      "text/plain": [
       "  id x    y \n",
       "1 a  1031 51\n",
       "2 b   138 52\n",
       "3 c   220 53\n",
       "4 d   369 54\n",
       "5 e   929 55\n",
       "6 f   495 56"
      ]
     },
     "metadata": {},
     "output_type": "display_data"
    }
   ],
   "source": [
    "## Lets view the first 6 rows of the dataframe\n",
    "head(df)"
   ]
  },
  {
   "cell_type": "markdown",
   "id": "2b8843fc",
   "metadata": {},
   "source": [
    "### Subsetting a dataframe"
   ]
  },
  {
   "cell_type": "code",
   "execution_count": 4,
   "id": "de9105f5",
   "metadata": {
    "ExecuteTime": {
     "end_time": "2021-09-16T13:27:29.377280Z",
     "start_time": "2021-09-16T13:27:29.200Z"
    }
   },
   "outputs": [
    {
     "data": {
      "text/html": [
       "<ol class=list-inline>\n",
       "\t<li>1031</li>\n",
       "\t<li>138</li>\n",
       "\t<li>220</li>\n",
       "\t<li>369</li>\n",
       "\t<li>929</li>\n",
       "\t<li>495</li>\n",
       "\t<li>469</li>\n",
       "\t<li>820</li>\n",
       "\t<li>722</li>\n",
       "\t<li>1115</li>\n",
       "</ol>\n"
      ],
      "text/latex": [
       "\\begin{enumerate*}\n",
       "\\item 1031\n",
       "\\item 138\n",
       "\\item 220\n",
       "\\item 369\n",
       "\\item 929\n",
       "\\item 495\n",
       "\\item 469\n",
       "\\item 820\n",
       "\\item 722\n",
       "\\item 1115\n",
       "\\end{enumerate*}\n"
      ],
      "text/markdown": [
       "1. 1031\n",
       "2. 138\n",
       "3. 220\n",
       "4. 369\n",
       "5. 929\n",
       "6. 495\n",
       "7. 469\n",
       "8. 820\n",
       "9. 722\n",
       "10. 1115\n",
       "\n",
       "\n"
      ],
      "text/plain": [
       " [1] 1031  138  220  369  929  495  469  820  722 1115"
      ]
     },
     "metadata": {},
     "output_type": "display_data"
    }
   ],
   "source": [
    "## To select a \"x\" column of a dataframe\n",
    "df$x"
   ]
  },
  {
   "cell_type": "code",
   "execution_count": 5,
   "id": "739ca3c7",
   "metadata": {
    "ExecuteTime": {
     "end_time": "2021-09-16T13:27:29.422260Z",
     "start_time": "2021-09-16T13:27:29.203Z"
    }
   },
   "outputs": [
    {
     "data": {
      "text/html": [
       "<table>\n",
       "<thead><tr><th scope=col>id</th><th scope=col>x</th></tr></thead>\n",
       "<tbody>\n",
       "\t<tr><td>a   </td><td>1031</td></tr>\n",
       "\t<tr><td>b   </td><td> 138</td></tr>\n",
       "\t<tr><td>c   </td><td> 220</td></tr>\n",
       "\t<tr><td>d   </td><td> 369</td></tr>\n",
       "\t<tr><td>e   </td><td> 929</td></tr>\n",
       "\t<tr><td>f   </td><td> 495</td></tr>\n",
       "\t<tr><td>g   </td><td> 469</td></tr>\n",
       "\t<tr><td>h   </td><td> 820</td></tr>\n",
       "\t<tr><td>i   </td><td> 722</td></tr>\n",
       "\t<tr><td>j   </td><td>1115</td></tr>\n",
       "</tbody>\n",
       "</table>\n"
      ],
      "text/latex": [
       "\\begin{tabular}{r|ll}\n",
       " id & x\\\\\n",
       "\\hline\n",
       "\t a    & 1031\\\\\n",
       "\t b    &  138\\\\\n",
       "\t c    &  220\\\\\n",
       "\t d    &  369\\\\\n",
       "\t e    &  929\\\\\n",
       "\t f    &  495\\\\\n",
       "\t g    &  469\\\\\n",
       "\t h    &  820\\\\\n",
       "\t i    &  722\\\\\n",
       "\t j    & 1115\\\\\n",
       "\\end{tabular}\n"
      ],
      "text/markdown": [
       "\n",
       "| id | x |\n",
       "|---|---|\n",
       "| a    | 1031 |\n",
       "| b    |  138 |\n",
       "| c    |  220 |\n",
       "| d    |  369 |\n",
       "| e    |  929 |\n",
       "| f    |  495 |\n",
       "| g    |  469 |\n",
       "| h    |  820 |\n",
       "| i    |  722 |\n",
       "| j    | 1115 |\n",
       "\n"
      ],
      "text/plain": [
       "   id x   \n",
       "1  a  1031\n",
       "2  b   138\n",
       "3  c   220\n",
       "4  d   369\n",
       "5  e   929\n",
       "6  f   495\n",
       "7  g   469\n",
       "8  h   820\n",
       "9  i   722\n",
       "10 j  1115"
      ]
     },
     "metadata": {},
     "output_type": "display_data"
    }
   ],
   "source": [
    "## To select \"id\" & \"x\" in the dataframe\n",
    "df[, c(\"id\", \"x\")]\n",
    "\n",
    "## Similarly you can also select one column using the above syntax df[, \"x\"]"
   ]
  },
  {
   "cell_type": "code",
   "execution_count": 6,
   "id": "549cb847",
   "metadata": {
    "ExecuteTime": {
     "end_time": "2021-09-16T13:27:29.466239Z",
     "start_time": "2021-09-16T13:27:29.206Z"
    }
   },
   "outputs": [
    {
     "data": {
      "text/html": [
       "<table>\n",
       "<thead><tr><th></th><th scope=col>id</th><th scope=col>x</th><th scope=col>y</th></tr></thead>\n",
       "<tbody>\n",
       "\t<tr><th scope=row>5</th><td>e   </td><td> 929</td><td>55  </td></tr>\n",
       "\t<tr><th scope=row>6</th><td>f   </td><td> 495</td><td>56  </td></tr>\n",
       "\t<tr><th scope=row>7</th><td>g   </td><td> 469</td><td>57  </td></tr>\n",
       "\t<tr><th scope=row>8</th><td>h   </td><td> 820</td><td>58  </td></tr>\n",
       "\t<tr><th scope=row>9</th><td>i   </td><td> 722</td><td>59  </td></tr>\n",
       "\t<tr><th scope=row>10</th><td>j   </td><td>1115</td><td>60  </td></tr>\n",
       "</tbody>\n",
       "</table>\n"
      ],
      "text/latex": [
       "\\begin{tabular}{r|lll}\n",
       "  & id & x & y\\\\\n",
       "\\hline\n",
       "\t5 & e    &  929 & 55  \\\\\n",
       "\t6 & f    &  495 & 56  \\\\\n",
       "\t7 & g    &  469 & 57  \\\\\n",
       "\t8 & h    &  820 & 58  \\\\\n",
       "\t9 & i    &  722 & 59  \\\\\n",
       "\t10 & j    & 1115 & 60  \\\\\n",
       "\\end{tabular}\n"
      ],
      "text/markdown": [
       "\n",
       "| <!--/--> | id | x | y |\n",
       "|---|---|---|---|\n",
       "| 5 | e    |  929 | 55   |\n",
       "| 6 | f    |  495 | 56   |\n",
       "| 7 | g    |  469 | 57   |\n",
       "| 8 | h    |  820 | 58   |\n",
       "| 9 | i    |  722 | 59   |\n",
       "| 10 | j    | 1115 | 60   |\n",
       "\n"
      ],
      "text/plain": [
       "   id x    y \n",
       "5  e   929 55\n",
       "6  f   495 56\n",
       "7  g   469 57\n",
       "8  h   820 58\n",
       "9  i   722 59\n",
       "10 j  1115 60"
      ]
     },
     "metadata": {},
     "output_type": "display_data"
    }
   ],
   "source": [
    "## To select only row 5 - 10, and all columns\n",
    "df[5:nrow(df),]"
   ]
  },
  {
   "cell_type": "markdown",
   "id": "c30c952f",
   "metadata": {},
   "source": [
    "### Performing Data Aggregation "
   ]
  },
  {
   "cell_type": "markdown",
   "id": "a3aeb264",
   "metadata": {
    "ExecuteTime": {
     "end_time": "2021-09-15T14:56:48.439714Z",
     "start_time": "2021-09-15T14:56:48.411Z"
    }
   },
   "source": [
    "Aggregation means presenting the data in a summary form for statistical analysis. Lets use an inbuilt dataset called iris. We will perform some statistical analysis using iris. If you want to know more iris dataset, please type the following syntax in the cell:\n",
    "\n",
    "\"?iris\"\n",
    "\n",
    "For the purpose of data aggregation we will use dplyr library. dplyr is a grammar of data manipulation. To know more about the functions present in dplyr please click the following link:\n",
    "\n",
    "https://dplyr.tidyverse.org/"
   ]
  },
  {
   "cell_type": "code",
   "execution_count": 7,
   "id": "be3fefc4",
   "metadata": {
    "ExecuteTime": {
     "end_time": "2021-09-16T13:27:29.516217Z",
     "start_time": "2021-09-16T13:27:29.210Z"
    }
   },
   "outputs": [
    {
     "data": {
      "text/html": [
       "<table>\n",
       "<thead><tr><th></th><th scope=col>Sepal.Length</th><th scope=col>Sepal.Width</th><th scope=col>Petal.Length</th><th scope=col>Petal.Width</th><th scope=col>Species</th></tr></thead>\n",
       "<tbody>\n",
       "\t<tr><th scope=row>120</th><td>6.0       </td><td>2.2       </td><td>5.0       </td><td>1.5       </td><td>virginica </td></tr>\n",
       "\t<tr><th scope=row>51</th><td>7.0       </td><td>3.2       </td><td>4.7       </td><td>1.4       </td><td>versicolor</td></tr>\n",
       "\t<tr><th scope=row>71</th><td>5.9       </td><td>3.2       </td><td>4.8       </td><td>1.8       </td><td>versicolor</td></tr>\n",
       "\t<tr><th scope=row>84</th><td>6.0       </td><td>2.7       </td><td>5.1       </td><td>1.6       </td><td>versicolor</td></tr>\n",
       "\t<tr><th scope=row>40</th><td>5.1       </td><td>3.4       </td><td>1.5       </td><td>0.2       </td><td>setosa    </td></tr>\n",
       "\t<tr><th scope=row>62</th><td>5.9       </td><td>3.0       </td><td>4.2       </td><td>1.5       </td><td>versicolor</td></tr>\n",
       "\t<tr><th scope=row>69</th><td>6.2       </td><td>2.2       </td><td>4.5       </td><td>1.5       </td><td>versicolor</td></tr>\n",
       "\t<tr><th scope=row>144</th><td>6.8       </td><td>3.2       </td><td>5.9       </td><td>2.3       </td><td>virginica </td></tr>\n",
       "\t<tr><th scope=row>95</th><td>5.6       </td><td>2.7       </td><td>4.2       </td><td>1.3       </td><td>versicolor</td></tr>\n",
       "\t<tr><th scope=row>94</th><td>5.0       </td><td>2.3       </td><td>3.3       </td><td>1.0       </td><td>versicolor</td></tr>\n",
       "</tbody>\n",
       "</table>\n"
      ],
      "text/latex": [
       "\\begin{tabular}{r|lllll}\n",
       "  & Sepal.Length & Sepal.Width & Petal.Length & Petal.Width & Species\\\\\n",
       "\\hline\n",
       "\t120 & 6.0        & 2.2        & 5.0        & 1.5        & virginica \\\\\n",
       "\t51 & 7.0        & 3.2        & 4.7        & 1.4        & versicolor\\\\\n",
       "\t71 & 5.9        & 3.2        & 4.8        & 1.8        & versicolor\\\\\n",
       "\t84 & 6.0        & 2.7        & 5.1        & 1.6        & versicolor\\\\\n",
       "\t40 & 5.1        & 3.4        & 1.5        & 0.2        & setosa    \\\\\n",
       "\t62 & 5.9        & 3.0        & 4.2        & 1.5        & versicolor\\\\\n",
       "\t69 & 6.2        & 2.2        & 4.5        & 1.5        & versicolor\\\\\n",
       "\t144 & 6.8        & 3.2        & 5.9        & 2.3        & virginica \\\\\n",
       "\t95 & 5.6        & 2.7        & 4.2        & 1.3        & versicolor\\\\\n",
       "\t94 & 5.0        & 2.3        & 3.3        & 1.0        & versicolor\\\\\n",
       "\\end{tabular}\n"
      ],
      "text/markdown": [
       "\n",
       "| <!--/--> | Sepal.Length | Sepal.Width | Petal.Length | Petal.Width | Species |\n",
       "|---|---|---|---|---|---|\n",
       "| 120 | 6.0        | 2.2        | 5.0        | 1.5        | virginica  |\n",
       "| 51 | 7.0        | 3.2        | 4.7        | 1.4        | versicolor |\n",
       "| 71 | 5.9        | 3.2        | 4.8        | 1.8        | versicolor |\n",
       "| 84 | 6.0        | 2.7        | 5.1        | 1.6        | versicolor |\n",
       "| 40 | 5.1        | 3.4        | 1.5        | 0.2        | setosa     |\n",
       "| 62 | 5.9        | 3.0        | 4.2        | 1.5        | versicolor |\n",
       "| 69 | 6.2        | 2.2        | 4.5        | 1.5        | versicolor |\n",
       "| 144 | 6.8        | 3.2        | 5.9        | 2.3        | virginica  |\n",
       "| 95 | 5.6        | 2.7        | 4.2        | 1.3        | versicolor |\n",
       "| 94 | 5.0        | 2.3        | 3.3        | 1.0        | versicolor |\n",
       "\n"
      ],
      "text/plain": [
       "    Sepal.Length Sepal.Width Petal.Length Petal.Width Species   \n",
       "120 6.0          2.2         5.0          1.5         virginica \n",
       "51  7.0          3.2         4.7          1.4         versicolor\n",
       "71  5.9          3.2         4.8          1.8         versicolor\n",
       "84  6.0          2.7         5.1          1.6         versicolor\n",
       "40  5.1          3.4         1.5          0.2         setosa    \n",
       "62  5.9          3.0         4.2          1.5         versicolor\n",
       "69  6.2          2.2         4.5          1.5         versicolor\n",
       "144 6.8          3.2         5.9          2.3         virginica \n",
       "95  5.6          2.7         4.2          1.3         versicolor\n",
       "94  5.0          2.3         3.3          1.0         versicolor"
      ]
     },
     "metadata": {},
     "output_type": "display_data"
    }
   ],
   "source": [
    "# Viewing random 10 rows\n",
    "iris[sample(1:nrow(iris),10),]"
   ]
  },
  {
   "cell_type": "markdown",
   "id": "2db296ff",
   "metadata": {},
   "source": [
    "**What is the average sepal length, sepal width, and petal length of each species? Also, how many different samples of each species were the measurements taken from?**"
   ]
  },
  {
   "cell_type": "code",
   "execution_count": 8,
   "id": "06f9cc56",
   "metadata": {
    "ExecuteTime": {
     "end_time": "2021-09-16T13:27:30.487644Z",
     "start_time": "2021-09-16T13:27:29.215Z"
    }
   },
   "outputs": [
    {
     "name": "stderr",
     "output_type": "stream",
     "text": [
      "Warning message:\n",
      "\"package 'dplyr' was built under R version 3.6.3\"\n",
      "Attaching package: 'dplyr'\n",
      "\n",
      "The following objects are masked from 'package:stats':\n",
      "\n",
      "    filter, lag\n",
      "\n",
      "The following objects are masked from 'package:base':\n",
      "\n",
      "    intersect, setdiff, setequal, union\n",
      "\n"
     ]
    },
    {
     "data": {
      "text/html": [
       "<table>\n",
       "<thead><tr><th scope=col>Species</th><th scope=col>AvgSepalLength</th><th scope=col>AvgSepalWidth</th><th scope=col>AvgPetalLength</th><th scope=col>CountofSamples</th></tr></thead>\n",
       "<tbody>\n",
       "\t<tr><td>setosa    </td><td>5.006     </td><td>3.428     </td><td>1.462     </td><td>50        </td></tr>\n",
       "\t<tr><td>versicolor</td><td>5.936     </td><td>2.770     </td><td>4.260     </td><td>50        </td></tr>\n",
       "\t<tr><td>virginica </td><td>6.588     </td><td>2.974     </td><td>5.552     </td><td>50        </td></tr>\n",
       "</tbody>\n",
       "</table>\n"
      ],
      "text/latex": [
       "\\begin{tabular}{r|lllll}\n",
       " Species & AvgSepalLength & AvgSepalWidth & AvgPetalLength & CountofSamples\\\\\n",
       "\\hline\n",
       "\t setosa     & 5.006      & 3.428      & 1.462      & 50        \\\\\n",
       "\t versicolor & 5.936      & 2.770      & 4.260      & 50        \\\\\n",
       "\t virginica  & 6.588      & 2.974      & 5.552      & 50        \\\\\n",
       "\\end{tabular}\n"
      ],
      "text/markdown": [
       "\n",
       "| Species | AvgSepalLength | AvgSepalWidth | AvgPetalLength | CountofSamples |\n",
       "|---|---|---|---|---|\n",
       "| setosa     | 5.006      | 3.428      | 1.462      | 50         |\n",
       "| versicolor | 5.936      | 2.770      | 4.260      | 50         |\n",
       "| virginica  | 6.588      | 2.974      | 5.552      | 50         |\n",
       "\n"
      ],
      "text/plain": [
       "  Species    AvgSepalLength AvgSepalWidth AvgPetalLength CountofSamples\n",
       "1 setosa     5.006          3.428         1.462          50            \n",
       "2 versicolor 5.936          2.770         4.260          50            \n",
       "3 virginica  6.588          2.974         5.552          50            "
      ]
     },
     "metadata": {},
     "output_type": "display_data"
    }
   ],
   "source": [
    "library(dplyr)\n",
    "\n",
    "iris %>%\n",
    "group_by(Species) %>% ## We want to group by species\n",
    "summarise(AvgSepalLength = mean(Sepal.Length), # Taking average sepal length\n",
    "          AvgSepalWidth = mean(Sepal.Width), # Taking average sepal width\n",
    "          AvgPetalLength = mean(Petal.Length), # Taking average petal length\n",
    "          CountofSamples = n()) # Counting the total number of samples of each species"
   ]
  },
  {
   "cell_type": "markdown",
   "id": "e3fba23b",
   "metadata": {},
   "source": [
    "### Scatter Matrix Plot"
   ]
  },
  {
   "cell_type": "markdown",
   "id": "d6189444",
   "metadata": {},
   "source": [
    "A scatter plot matrix is a grid (or matrix) of scatter plots used to visualize bivariate relationships between combinations of variables. Each scatter plot in the matrix visualizes the relationship between a pair of variables, allowing many relationships to be explored in one chart."
   ]
  },
  {
   "cell_type": "markdown",
   "id": "d45674ae",
   "metadata": {},
   "source": [
    "**How are different variables correlated in iris dataset?**"
   ]
  },
  {
   "cell_type": "code",
   "execution_count": 9,
   "id": "cb74d840",
   "metadata": {
    "ExecuteTime": {
     "end_time": "2021-09-16T13:27:30.831069Z",
     "start_time": "2021-09-16T13:27:29.220Z"
    },
    "scrolled": false
   },
   "outputs": [
    {
     "data": {
      "image/png": "[encoded data removed]",
      "text/plain": [
       "plot without title"
      ]
     },
     "metadata": {},
     "output_type": "display_data"
    }
   ],
   "source": [
    "plot(iris)"
   ]
  },
  {
   "cell_type": "markdown",
   "id": "ddcc17c1",
   "metadata": {},
   "source": [
    "The above plot suggests that there is a strong correlation between Petal Length and Petal Width. Wouldn't it be better if we could see the pearson correlation value for different attributes and if would color the points by Species. \n",
    "\n",
    "Good news is that this is possible. We will use a library called ggpairs. To use ggpairs, please load \"ggplot2\", and \"GGally\""
   ]
  },
  {
   "cell_type": "code",
   "execution_count": 10,
   "id": "b42f9d2a",
   "metadata": {
    "ExecuteTime": {
     "end_time": "2021-09-16T13:27:31.244308Z",
     "start_time": "2021-09-16T13:27:29.223Z"
    }
   },
   "outputs": [
    {
     "name": "stderr",
     "output_type": "stream",
     "text": [
      "Registered S3 method overwritten by 'GGally':\n",
      "  method from   \n",
      "  +.gg   ggplot2\n"
     ]
    }
   ],
   "source": [
    "library(ggplot2)\n",
    "library(GGally)"
   ]
  },
  {
   "cell_type": "code",
   "execution_count": 11,
   "id": "3ba872f8",
   "metadata": {
    "ExecuteTime": {
     "end_time": "2021-09-16T13:27:38.169335Z",
     "start_time": "2021-09-16T13:27:29.226Z"
    }
   },
   "outputs": [
    {
     "name": "stderr",
     "output_type": "stream",
     "text": [
      "`stat_bin()` using `bins = 30`. Pick better value with `binwidth`.\n",
      "`stat_bin()` using `bins = 30`. Pick better value with `binwidth`.\n",
      "`stat_bin()` using `bins = 30`. Pick better value with `binwidth`.\n",
      "`stat_bin()` using `bins = 30`. Pick better value with `binwidth`.\n"
     ]
    },
    {
     "data": {
      "image/png": "[encoded data removed]",
      "text/plain": [
       "plot without title"
      ]
     },
     "metadata": {},
     "output_type": "display_data"
    }
   ],
   "source": [
    "options(repr.plot.width=9, repr.plot.height=6.5,repr.plot.res = 135) #Defining the picture size and resolution\n",
    "ggpairs(iris, aes(colour = Species, alpha = 0.4))"
   ]
  },
  {
   "cell_type": "markdown",
   "id": "e787ce88",
   "metadata": {},
   "source": [
    "### Plotting using ggplot2"
   ]
  },
  {
   "cell_type": "markdown",
   "id": "00ab5f53",
   "metadata": {},
   "source": [
    "Lets look at another R inbuilt dataset called \"mtcars\". To know more about the dataset, please read the documentation"
   ]
  },
  {
   "cell_type": "code",
   "execution_count": 12,
   "id": "a463e9fd",
   "metadata": {
    "ExecuteTime": {
     "end_time": "2021-09-16T13:27:38.226308Z",
     "start_time": "2021-09-16T13:27:29.231Z"
    }
   },
   "outputs": [
    {
     "data": {
      "text/html": [
       "<table>\n",
       "<thead><tr><th></th><th scope=col>mpg</th><th scope=col>cyl</th><th scope=col>disp</th><th scope=col>hp</th><th scope=col>drat</th><th scope=col>wt</th><th scope=col>qsec</th><th scope=col>vs</th><th scope=col>am</th><th scope=col>gear</th><th scope=col>carb</th></tr></thead>\n",
       "<tbody>\n",
       "\t<tr><th scope=row>Merc 280C</th><td>17.8 </td><td>6    </td><td>167.6</td><td>123  </td><td>3.92 </td><td>3.440</td><td>18.90</td><td>1    </td><td>0    </td><td>4    </td><td>4    </td></tr>\n",
       "\t<tr><th scope=row>Valiant</th><td>18.1 </td><td>6    </td><td>225.0</td><td>105  </td><td>2.76 </td><td>3.460</td><td>20.22</td><td>1    </td><td>0    </td><td>3    </td><td>1    </td></tr>\n",
       "\t<tr><th scope=row>Duster 360</th><td>14.3 </td><td>8    </td><td>360.0</td><td>245  </td><td>3.21 </td><td>3.570</td><td>15.84</td><td>0    </td><td>0    </td><td>3    </td><td>4    </td></tr>\n",
       "\t<tr><th scope=row>Merc 450SE</th><td>16.4 </td><td>8    </td><td>275.8</td><td>180  </td><td>3.07 </td><td>4.070</td><td>17.40</td><td>0    </td><td>0    </td><td>3    </td><td>3    </td></tr>\n",
       "\t<tr><th scope=row>Honda Civic</th><td>30.4 </td><td>4    </td><td> 75.7</td><td> 52  </td><td>4.93 </td><td>1.615</td><td>18.52</td><td>1    </td><td>1    </td><td>4    </td><td>2    </td></tr>\n",
       "\t<tr><th scope=row>Merc 450SL</th><td>17.3 </td><td>8    </td><td>275.8</td><td>180  </td><td>3.07 </td><td>3.730</td><td>17.60</td><td>0    </td><td>0    </td><td>3    </td><td>3    </td></tr>\n",
       "\t<tr><th scope=row>Hornet 4 Drive</th><td>21.4 </td><td>6    </td><td>258.0</td><td>110  </td><td>3.08 </td><td>3.215</td><td>19.44</td><td>1    </td><td>0    </td><td>3    </td><td>1    </td></tr>\n",
       "</tbody>\n",
       "</table>\n"
      ],
      "text/latex": [
       "\\begin{tabular}{r|lllllllllll}\n",
       "  & mpg & cyl & disp & hp & drat & wt & qsec & vs & am & gear & carb\\\\\n",
       "\\hline\n",
       "\tMerc 280C & 17.8  & 6     & 167.6 & 123   & 3.92  & 3.440 & 18.90 & 1     & 0     & 4     & 4    \\\\\n",
       "\tValiant & 18.1  & 6     & 225.0 & 105   & 2.76  & 3.460 & 20.22 & 1     & 0     & 3     & 1    \\\\\n",
       "\tDuster 360 & 14.3  & 8     & 360.0 & 245   & 3.21  & 3.570 & 15.84 & 0     & 0     & 3     & 4    \\\\\n",
       "\tMerc 450SE & 16.4  & 8     & 275.8 & 180   & 3.07  & 4.070 & 17.40 & 0     & 0     & 3     & 3    \\\\\n",
       "\tHonda Civic & 30.4  & 4     &  75.7 &  52   & 4.93  & 1.615 & 18.52 & 1     & 1     & 4     & 2    \\\\\n",
       "\tMerc 450SL & 17.3  & 8     & 275.8 & 180   & 3.07  & 3.730 & 17.60 & 0     & 0     & 3     & 3    \\\\\n",
       "\tHornet 4 Drive & 21.4  & 6     & 258.0 & 110   & 3.08  & 3.215 & 19.44 & 1     & 0     & 3     & 1    \\\\\n",
       "\\end{tabular}\n"
      ],
      "text/markdown": [
       "\n",
       "| <!--/--> | mpg | cyl | disp | hp | drat | wt | qsec | vs | am | gear | carb |\n",
       "|---|---|---|---|---|---|---|---|---|---|---|---|\n",
       "| Merc 280C | 17.8  | 6     | 167.6 | 123   | 3.92  | 3.440 | 18.90 | 1     | 0     | 4     | 4     |\n",
       "| Valiant | 18.1  | 6     | 225.0 | 105   | 2.76  | 3.460 | 20.22 | 1     | 0     | 3     | 1     |\n",
       "| Duster 360 | 14.3  | 8     | 360.0 | 245   | 3.21  | 3.570 | 15.84 | 0     | 0     | 3     | 4     |\n",
       "| Merc 450SE | 16.4  | 8     | 275.8 | 180   | 3.07  | 4.070 | 17.40 | 0     | 0     | 3     | 3     |\n",
       "| Honda Civic | 30.4  | 4     |  75.7 |  52   | 4.93  | 1.615 | 18.52 | 1     | 1     | 4     | 2     |\n",
       "| Merc 450SL | 17.3  | 8     | 275.8 | 180   | 3.07  | 3.730 | 17.60 | 0     | 0     | 3     | 3     |\n",
       "| Hornet 4 Drive | 21.4  | 6     | 258.0 | 110   | 3.08  | 3.215 | 19.44 | 1     | 0     | 3     | 1     |\n",
       "\n"
      ],
      "text/plain": [
       "               mpg  cyl disp  hp  drat wt    qsec  vs am gear carb\n",
       "Merc 280C      17.8 6   167.6 123 3.92 3.440 18.90 1  0  4    4   \n",
       "Valiant        18.1 6   225.0 105 2.76 3.460 20.22 1  0  3    1   \n",
       "Duster 360     14.3 8   360.0 245 3.21 3.570 15.84 0  0  3    4   \n",
       "Merc 450SE     16.4 8   275.8 180 3.07 4.070 17.40 0  0  3    3   \n",
       "Honda Civic    30.4 4    75.7  52 4.93 1.615 18.52 1  1  4    2   \n",
       "Merc 450SL     17.3 8   275.8 180 3.07 3.730 17.60 0  0  3    3   \n",
       "Hornet 4 Drive 21.4 6   258.0 110 3.08 3.215 19.44 1  0  3    1   "
      ]
     },
     "metadata": {},
     "output_type": "display_data"
    }
   ],
   "source": [
    "mtcars[sample(0:nrow(mtcars),7),]"
   ]
  },
  {
   "cell_type": "markdown",
   "id": "bd98c2ba",
   "metadata": {},
   "source": [
    "**How does the distribution looks like for the numerical attributes?**"
   ]
  },
  {
   "cell_type": "code",
   "execution_count": 13,
   "id": "77be37cf",
   "metadata": {
    "ExecuteTime": {
     "end_time": "2021-09-16T13:27:59.723572Z",
     "start_time": "2021-09-16T13:27:59.652Z"
    }
   },
   "outputs": [
    {
     "name": "stderr",
     "output_type": "stream",
     "text": [
      "Warning message:\n",
      "\"package 'gridExtra' was built under R version 3.6.3\"\n",
      "Attaching package: 'gridExtra'\n",
      "\n",
      "The following object is masked from 'package:dplyr':\n",
      "\n",
      "    combine\n",
      "\n"
     ]
    }
   ],
   "source": [
    "library(gridExtra)"
   ]
  },
  {
   "cell_type": "code",
   "execution_count": 134,
   "id": "580803f8",
   "metadata": {
    "ExecuteTime": {
     "end_time": "2021-09-16T15:04:05.359363Z",
     "start_time": "2021-09-16T15:04:02.891Z"
    },
    "scrolled": false
   },
   "outputs": [
    {
     "data": {
      "image/png": "[encoded data removed]",
      "text/plain": [
       "plot without title"
      ]
     },
     "metadata": {},
     "output_type": "display_data"
    }
   ],
   "source": [
    "plotList = list() ## Creating an empty list where we will be storing the plots\n",
    "\n",
    "\n",
    "for(i in 1:ncol(mtcars)){ ##Running the loop from the very 1st column to the last column\n",
    "    \n",
    "    x = mtcars[,i]\n",
    "    plotList[[i]] = ggplot(data=data.frame(x), aes(x=x))+geom_density()+\n",
    "    ggtitle(paste0(\"Distribution of \", colnames(mtcars[i]))) ## Storing the plot in the list created above\n",
    "}\n",
    "\n",
    "do.call(grid.arrange, plotList) ## Arranging the plots in a grid of 3x4\n",
    "\n"
   ]
  },
  {
   "cell_type": "markdown",
   "id": "82867c8a",
   "metadata": {},
   "source": [
    "Lets calculate the skewness of each of the attributes:"
   ]
  },
  {
   "cell_type": "code",
   "execution_count": 142,
   "id": "26447eca",
   "metadata": {
    "ExecuteTime": {
     "end_time": "2021-09-16T15:12:53.362223Z",
     "start_time": "2021-09-16T15:12:53.307Z"
    }
   },
   "outputs": [
    {
     "data": {
      "text/html": [
       "<table>\n",
       "<thead><tr><th scope=col>Column Name</th><th scope=col>Skewness</th></tr></thead>\n",
       "<tbody>\n",
       "\t<tr><td>mpg       </td><td> 0.6106550</td></tr>\n",
       "\t<tr><td>cyl       </td><td>-0.1746119</td></tr>\n",
       "\t<tr><td>disp      </td><td> 0.3816570</td></tr>\n",
       "\t<tr><td>hp        </td><td> 0.7260237</td></tr>\n",
       "\t<tr><td>drat      </td><td> 0.2659039</td></tr>\n",
       "\t<tr><td>wt        </td><td> 0.4231465</td></tr>\n",
       "\t<tr><td>qsec      </td><td> 0.3690453</td></tr>\n",
       "\t<tr><td>vs        </td><td> 0.2402577</td></tr>\n",
       "\t<tr><td>am        </td><td> 0.3640159</td></tr>\n",
       "\t<tr><td>gear      </td><td> 0.5288545</td></tr>\n",
       "\t<tr><td>carb      </td><td> 1.0508738</td></tr>\n",
       "</tbody>\n",
       "</table>\n"
      ],
      "text/latex": [
       "\\begin{tabular}{r|ll}\n",
       " Column Name & Skewness\\\\\n",
       "\\hline\n",
       "\t mpg        &  0.6106550\\\\\n",
       "\t cyl        & -0.1746119\\\\\n",
       "\t disp       &  0.3816570\\\\\n",
       "\t hp         &  0.7260237\\\\\n",
       "\t drat       &  0.2659039\\\\\n",
       "\t wt         &  0.4231465\\\\\n",
       "\t qsec       &  0.3690453\\\\\n",
       "\t vs         &  0.2402577\\\\\n",
       "\t am         &  0.3640159\\\\\n",
       "\t gear       &  0.5288545\\\\\n",
       "\t carb       &  1.0508738\\\\\n",
       "\\end{tabular}\n"
      ],
      "text/markdown": [
       "\n",
       "| Column Name | Skewness |\n",
       "|---|---|\n",
       "| mpg        |  0.6106550 |\n",
       "| cyl        | -0.1746119 |\n",
       "| disp       |  0.3816570 |\n",
       "| hp         |  0.7260237 |\n",
       "| drat       |  0.2659039 |\n",
       "| wt         |  0.4231465 |\n",
       "| qsec       |  0.3690453 |\n",
       "| vs         |  0.2402577 |\n",
       "| am         |  0.3640159 |\n",
       "| gear       |  0.5288545 |\n",
       "| carb       |  1.0508738 |\n",
       "\n"
      ],
      "text/plain": [
       "   Column Name Skewness  \n",
       "1  mpg          0.6106550\n",
       "2  cyl         -0.1746119\n",
       "3  disp         0.3816570\n",
       "4  hp           0.7260237\n",
       "5  drat         0.2659039\n",
       "6  wt           0.4231465\n",
       "7  qsec         0.3690453\n",
       "8  vs           0.2402577\n",
       "9  am           0.3640159\n",
       "10 gear         0.5288545\n",
       "11 carb         1.0508738"
      ]
     },
     "metadata": {},
     "output_type": "display_data"
    }
   ],
   "source": [
    "skew_df = data.frame(matrix(0,ncol(mtcars),2))\n",
    "colnames(skew_df) = c(\"Column Name\", \"Skewness\")\n",
    "for (i1 in 1:ncol(mtcars)) { \n",
    "  skew_df[i1,1] = colnames(mtcars[i1])\n",
    "  skew_df[i1,2] = skewness(mtcars[,i1])\n",
    "}\n",
    "skew_df"
   ]
  },
  {
   "cell_type": "markdown",
   "id": "6e4ea7e0",
   "metadata": {},
   "source": [
    "**- Deepansh Arora**"
   ]
  }
 ],
 "metadata": {
  "kernelspec": {
   "display_name": "R",
   "language": "R",
   "name": "ir"
  },
  "language_info": {
   "codemirror_mode": "r",
   "file_extension": ".r",
   "mimetype": "text/x-r-source",
   "name": "R",
   "pygments_lexer": "r",
   "version": "3.6.1"
  },
  "toc": {
   "base_numbering": 1,
   "nav_menu": {},
   "number_sections": true,
   "sideBar": true,
   "skip_h1_title": false,
   "title_cell": "Table of Contents",
   "title_sidebar": "Contents",
   "toc_cell": true,
   "toc_position": {
    "height": "calc(100% - 180px)",
    "left": "10px",
    "top": "150px",
    "width": "349.091px"
   },
   "toc_section_display": true,
   "toc_window_display": false
  },
  "varInspector": {
   "cols": {
    "lenName": 16,
    "lenType": 16,
    "lenVar": 40
   },
   "kernels_config": {
    "python": {
     "delete_cmd_postfix": "",
     "delete_cmd_prefix": "del ",
     "library": "var_list.py",
     "varRefreshCmd": "print(var_dic_list())"
    },
    "r": {
     "delete_cmd_postfix": ") ",
     "delete_cmd_prefix": "rm(",
     "library": "var_list.r",
     "varRefreshCmd": "cat(var_dic_list()) "
    }
   },
   "position": {
    "height": "246.719px",
    "left": "1375.45px",
    "right": "20px",
    "top": "120px",
    "width": "350px"
   },
   "types_to_exclude": [
    "module",
    "function",
    "builtin_function_or_method",
    "instance",
    "_Feature"
   ],
   "window_display": false
  }
 },
 "nbformat": 4,
 "nbformat_minor": 5
}
