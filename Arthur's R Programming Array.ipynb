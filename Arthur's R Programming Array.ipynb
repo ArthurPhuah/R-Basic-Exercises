{
 "cells": [
  {
   "cell_type": "markdown",
   "id": "7c377b21",
   "metadata": {},
   "source": [
    "## 1. Write a R program to convert a given matrix to a 1 dimensional array"
   ]
  },
  {
   "cell_type": "code",
   "execution_count": 11,
   "id": "614422b4",
   "metadata": {},
   "outputs": [],
   "source": [
    "# Requirements:\n",
    "# 1. Convert a given matrix to a 1 dim array\n",
    "#\n",
    "# \"matrix(x,y,z)\" creates a matrix from the given set of values\n",
    "# x = the range of numbers\n",
    "# y = number of rows\n",
    "# z = number of columns\n",
    "# \"as.vector\" attempts to transform argument into vector"
   ]
  },
  {
   "cell_type": "code",
   "execution_count": 10,
   "id": "4244402f",
   "metadata": {
    "scrolled": false
   },
   "outputs": [
    {
     "name": "stdout",
     "output_type": "stream",
     "text": [
      "[1] \"Matrix' given dimension: \"\n"
     ]
    },
    {
     "data": {
      "text/html": [
       "<table>\n",
       "<tbody>\n",
       "\t<tr><td>1 </td><td>4 </td><td>7 </td><td>10</td></tr>\n",
       "\t<tr><td>2 </td><td>5 </td><td>8 </td><td>11</td></tr>\n",
       "\t<tr><td>3 </td><td>6 </td><td>9 </td><td>12</td></tr>\n",
       "</tbody>\n",
       "</table>\n"
      ],
      "text/latex": [
       "\\begin{tabular}{llll}\n",
       "\t 1  & 4  & 7  & 10\\\\\n",
       "\t 2  & 5  & 8  & 11\\\\\n",
       "\t 3  & 6  & 9  & 12\\\\\n",
       "\\end{tabular}\n"
      ],
      "text/markdown": [
       "\n",
       "| 1  | 4  | 7  | 10 |\n",
       "| 2  | 5  | 8  | 11 |\n",
       "| 3  | 6  | 9  | 12 |\n",
       "\n"
      ],
      "text/plain": [
       "     [,1] [,2] [,3] [,4]\n",
       "[1,] 1    4    7    10  \n",
       "[2,] 2    5    8    11  \n",
       "[3,] 3    6    9    12  "
      ]
     },
     "metadata": {},
     "output_type": "display_data"
    },
    {
     "name": "stdout",
     "output_type": "stream",
     "text": [
      "\n",
      "[1] \"Matrix in a 1 dimension array\"\n"
     ]
    },
    {
     "data": {
      "text/html": [
       "<ol class=list-inline>\n",
       "\t<li>1</li>\n",
       "\t<li>2</li>\n",
       "\t<li>3</li>\n",
       "\t<li>4</li>\n",
       "\t<li>5</li>\n",
       "\t<li>6</li>\n",
       "\t<li>7</li>\n",
       "\t<li>8</li>\n",
       "\t<li>9</li>\n",
       "\t<li>10</li>\n",
       "\t<li>11</li>\n",
       "\t<li>12</li>\n",
       "</ol>\n"
      ],
      "text/latex": [
       "\\begin{enumerate*}\n",
       "\\item 1\n",
       "\\item 2\n",
       "\\item 3\n",
       "\\item 4\n",
       "\\item 5\n",
       "\\item 6\n",
       "\\item 7\n",
       "\\item 8\n",
       "\\item 9\n",
       "\\item 10\n",
       "\\item 11\n",
       "\\item 12\n",
       "\\end{enumerate*}\n"
      ],
      "text/markdown": [
       "1. 1\n",
       "2. 2\n",
       "3. 3\n",
       "4. 4\n",
       "5. 5\n",
       "6. 6\n",
       "7. 7\n",
       "8. 8\n",
       "9. 9\n",
       "10. 10\n",
       "11. 11\n",
       "12. 12\n",
       "\n",
       "\n"
      ],
      "text/plain": [
       " [1]  1  2  3  4  5  6  7  8  9 10 11 12"
      ]
     },
     "metadata": {},
     "output_type": "display_data"
    }
   ],
   "source": [
    "print(\"Matrix' given dimension: \")\n",
    "m = matrix(1:12, 3, 4)\n",
    "m\n",
    "cat(\"\\n\")\n",
    "print(\"Matrix in a 1 dimension array\")\n",
    "a = as.vector(m)\n",
    "a"
   ]
  },
  {
   "cell_type": "markdown",
   "id": "013bf24c",
   "metadata": {},
   "source": [
    " "
   ]
  },
  {
   "cell_type": "markdown",
   "id": "5998fc99",
   "metadata": {},
   "source": [
    "## 2. Write a R program to create an array of two 3x3 matrices each with 3 rows and 3 columns from two given vectors"
   ]
  },
  {
   "cell_type": "code",
   "execution_count": 17,
   "id": "86697974",
   "metadata": {},
   "outputs": [],
   "source": [
    "# Requirements:\n",
    "# 1. Create 2 vectors\n",
    "# 2. Create an array of two 3x3 matrices\n",
    "# 3. Each matrice has 3 rows and 3 columns from two given two vectors\n",
    "#\n",
    "# \"array(x,y,z)\" creates or tests for arrays\n",
    "# x = dataset\n",
    "# y = dimension value\n",
    "# z = dimension name"
   ]
  },
  {
   "cell_type": "code",
   "execution_count": 14,
   "id": "1fdf4268",
   "metadata": {},
   "outputs": [
    {
     "name": "stdout",
     "output_type": "stream",
     "text": [
      "[1] \"Two vectors of different length: \"\n"
     ]
    },
    {
     "data": {
      "text/html": [
       "<ol class=list-inline>\n",
       "\t<li>1</li>\n",
       "\t<li>2</li>\n",
       "\t<li>3</li>\n",
       "\t<li>4</li>\n",
       "\t<li>5</li>\n",
       "</ol>\n"
      ],
      "text/latex": [
       "\\begin{enumerate*}\n",
       "\\item 1\n",
       "\\item 2\n",
       "\\item 3\n",
       "\\item 4\n",
       "\\item 5\n",
       "\\end{enumerate*}\n"
      ],
      "text/markdown": [
       "1. 1\n",
       "2. 2\n",
       "3. 3\n",
       "4. 4\n",
       "5. 5\n",
       "\n",
       "\n"
      ],
      "text/plain": [
       "[1] 1 2 3 4 5"
      ]
     },
     "metadata": {},
     "output_type": "display_data"
    },
    {
     "data": {
      "text/html": [
       "<ol class=list-inline>\n",
       "\t<li>6</li>\n",
       "\t<li>7</li>\n",
       "\t<li>8</li>\n",
       "\t<li>9</li>\n",
       "\t<li>10</li>\n",
       "\t<li>11</li>\n",
       "\t<li>12</li>\n",
       "</ol>\n"
      ],
      "text/latex": [
       "\\begin{enumerate*}\n",
       "\\item 6\n",
       "\\item 7\n",
       "\\item 8\n",
       "\\item 9\n",
       "\\item 10\n",
       "\\item 11\n",
       "\\item 12\n",
       "\\end{enumerate*}\n"
      ],
      "text/markdown": [
       "1. 6\n",
       "2. 7\n",
       "3. 8\n",
       "4. 9\n",
       "5. 10\n",
       "6. 11\n",
       "7. 12\n",
       "\n",
       "\n"
      ],
      "text/plain": [
       "[1]  6  7  8  9 10 11 12"
      ]
     },
     "metadata": {},
     "output_type": "display_data"
    },
    {
     "name": "stdout",
     "output_type": "stream",
     "text": [
      "\n",
      "[1] \"New Array: \"\n",
      ", , 1\n",
      "\n",
      "     [,1] [,2] [,3]\n",
      "[1,]    1    4    7\n",
      "[2,]    2    5    8\n",
      "[3,]    3    6    9\n",
      "\n",
      ", , 2\n",
      "\n",
      "     [,1] [,2] [,3]\n",
      "[1,]   10    1    4\n",
      "[2,]   11    2    5\n",
      "[3,]   12    3    6\n",
      "\n"
     ]
    }
   ],
   "source": [
    "print(\"Two vectors of different length: \")\n",
    "v1 = c(1, 2, 3, 4, 5)\n",
    "v2 = c(6, 7, 8, 9, 10, 11, 12)\n",
    "v1\n",
    "v2\n",
    "cat(\"\\n\")\n",
    "result = array(c(v1,v2),dim = c(3,3,2))\n",
    "print(\"New Array: \")\n",
    "print(result)"
   ]
  },
  {
   "cell_type": "markdown",
   "id": "e397c2d8",
   "metadata": {},
   "source": [
    " "
   ]
  },
  {
   "cell_type": "markdown",
   "id": "d92607df",
   "metadata": {},
   "source": [
    "## 3. Write a R program to create a 3 dimensional array of 24 elements using the dim() function"
   ]
  },
  {
   "cell_type": "code",
   "execution_count": 23,
   "id": "0e67844b",
   "metadata": {},
   "outputs": [],
   "source": [
    "# Requirements:\n",
    "# 1. Create a 3 dimensional array of 24 elements\n",
    "# 2. Use the dim() function\n",
    "#\n",
    "# \"dim(x,y,z)\" is used to retrieve or set the dimension of an object\n",
    "# x = number of rows\n",
    "# y = number of columns\n",
    "# z = number of instances\n",
    "#\n",
    "# \"sample(x,y,z,a)\" takes sample of specific size of the element \"x\"\n",
    "# it also acts as a random number generator\n",
    "# x = your range\n",
    "# y = size of the sample\n",
    "# z = indicate whether relacement is TRUE or FALSE\n",
    "# a = vector of probability"
   ]
  },
  {
   "cell_type": "code",
   "execution_count": 34,
   "id": "53c167ad",
   "metadata": {
    "scrolled": true
   },
   "outputs": [
    {
     "name": "stdout",
     "output_type": "stream",
     "text": [
      "[1] \"3 Dimension array\"\n",
      ", , 1\n",
      "\n",
      "     [,1] [,2]\n",
      "[1,]   21    2\n",
      "[2,]    8   17\n",
      "[3,]   20    2\n",
      "\n",
      ", , 2\n",
      "\n",
      "     [,1] [,2]\n",
      "[1,]   16   15\n",
      "[2,]   22    2\n",
      "[3,]   21   11\n",
      "\n",
      ", , 3\n",
      "\n",
      "     [,1] [,2]\n",
      "[1,]   15   12\n",
      "[2,]   12   23\n",
      "[3,]   22    6\n",
      "\n",
      ", , 4\n",
      "\n",
      "     [,1] [,2]\n",
      "[1,]   10   12\n",
      "[2,]    9   24\n",
      "[3,]   25   19\n",
      "\n"
     ]
    }
   ],
   "source": [
    "a = sample(1:25, 24, replace = TRUE)\n",
    "\n",
    "# this dim() is a 3D array, if you do not include z, it will become a 2D array\n",
    "dim(a) = c(3,2,4)\n",
    "print(\"3 Dimension array\")\n",
    "print(a)"
   ]
  },
  {
   "cell_type": "markdown",
   "id": "a04ad405",
   "metadata": {},
   "source": [
    " "
   ]
  },
  {
   "cell_type": "markdown",
   "id": "afc48d7b",
   "metadata": {},
   "source": [
    "## 4. Write a R program to create an array of two 3x3 matrices each with 3 rows and 3 columns from two given vectors. Print the second row of the second matrix of the array and the elements in the 3rd row and 3rd column of the 1st matrix"
   ]
  },
  {
   "cell_type": "code",
   "execution_count": 39,
   "id": "c7775935",
   "metadata": {},
   "outputs": [],
   "source": [
    "# Requirements:\n",
    "# 1. Create 2 vectors\n",
    "# 2. Create 2 arrays of 3x3 matrices each with 3 rows and 3 columns\n",
    "# 3. Print 2nd row of the 2nd matrix\n",
    "# 4. Print 3rd row and the 3rd column of the 1st matrix\n",
    "#\n",
    "# \"print(a[x,y,z])\" is used to specify what you'd like printed\n",
    "# a = your array\n",
    "# x = which row\n",
    "# y = which column\n",
    "# z = which instance or matrix"
   ]
  },
  {
   "cell_type": "code",
   "execution_count": 38,
   "id": "d2c9b80b",
   "metadata": {
    "scrolled": true
   },
   "outputs": [
    {
     "name": "stdout",
     "output_type": "stream",
     "text": [
      "[1] \"Two vectors with different lengths\"\n"
     ]
    },
    {
     "data": {
      "text/html": [
       "<ol class=list-inline>\n",
       "\t<li>1</li>\n",
       "\t<li>2</li>\n",
       "\t<li>3</li>\n",
       "\t<li>4</li>\n",
       "\t<li>5</li>\n",
       "\t<li>6</li>\n",
       "\t<li>7</li>\n",
       "</ol>\n"
      ],
      "text/latex": [
       "\\begin{enumerate*}\n",
       "\\item 1\n",
       "\\item 2\n",
       "\\item 3\n",
       "\\item 4\n",
       "\\item 5\n",
       "\\item 6\n",
       "\\item 7\n",
       "\\end{enumerate*}\n"
      ],
      "text/markdown": [
       "1. 1\n",
       "2. 2\n",
       "3. 3\n",
       "4. 4\n",
       "5. 5\n",
       "6. 6\n",
       "7. 7\n",
       "\n",
       "\n"
      ],
      "text/plain": [
       "[1] 1 2 3 4 5 6 7"
      ]
     },
     "metadata": {},
     "output_type": "display_data"
    },
    {
     "data": {
      "text/html": [
       "<ol class=list-inline>\n",
       "\t<li>6</li>\n",
       "\t<li>7</li>\n",
       "\t<li>8</li>\n",
       "\t<li>9</li>\n",
       "\t<li>10</li>\n",
       "\t<li>11</li>\n",
       "\t<li>12</li>\n",
       "</ol>\n"
      ],
      "text/latex": [
       "\\begin{enumerate*}\n",
       "\\item 6\n",
       "\\item 7\n",
       "\\item 8\n",
       "\\item 9\n",
       "\\item 10\n",
       "\\item 11\n",
       "\\item 12\n",
       "\\end{enumerate*}\n"
      ],
      "text/markdown": [
       "1. 6\n",
       "2. 7\n",
       "3. 8\n",
       "4. 9\n",
       "5. 10\n",
       "6. 11\n",
       "7. 12\n",
       "\n",
       "\n"
      ],
      "text/plain": [
       "[1]  6  7  8  9 10 11 12"
      ]
     },
     "metadata": {},
     "output_type": "display_data"
    },
    {
     "name": "stdout",
     "output_type": "stream",
     "text": [
      "[1] \"The two 3x3 matrices:\"\n",
      ", , 1\n",
      "\n",
      "     [,1] [,2] [,3]\n",
      "[1,]    1    4    7\n",
      "[2,]    2    5    6\n",
      "[3,]    3    6    7\n",
      "\n",
      ", , 2\n",
      "\n",
      "     [,1] [,2] [,3]\n",
      "[1,]    8   11    2\n",
      "[2,]    9   12    3\n",
      "[3,]   10    1    4\n",
      "\n",
      "[1] \"2nd row of the 2nd matrix:\"\n",
      "[1]  9 12  3\n",
      "\n",
      "[1] \"3rd row and 3rd column of the 1st matrix:\"\n",
      "[1] 7\n"
     ]
    }
   ],
   "source": [
    "print(\"Two vectors with different lengths\")\n",
    "v1 = c(1, 2, 3, 4, 5, 6, 7)\n",
    "V2 = c(10, 11, 12, 13, 14, 15, 16, 17, 18)\n",
    "v1\n",
    "v2\n",
    "m = array(c(v1,v2), dim = c(3,3,2))\n",
    "print(\"The two 3x3 matrices:\")\n",
    "print(m)\n",
    "\n",
    "print(\"2nd row of the 2nd matrix:\")\n",
    "print(m[2, , 2])\n",
    "\n",
    "cat(\"\\n\")\n",
    "print(\"3rd row and 3rd column of the 1st matrix:\")\n",
    "print(m[3,3,1])"
   ]
  },
  {
   "cell_type": "markdown",
   "id": "a480a280",
   "metadata": {},
   "source": [
    " "
   ]
  },
  {
   "cell_type": "markdown",
   "id": "fbaea7ba",
   "metadata": {},
   "source": [
    "## 5. Write a R program to combine three arrays so that the first row of the first array is followed by the first row of the second array and then first row of the third array"
   ]
  },
  {
   "cell_type": "code",
   "execution_count": 6,
   "id": "42e25ecc",
   "metadata": {},
   "outputs": [],
   "source": [
    "# Requirements:\n",
    "# 1. Combine 3 arrays\n",
    "# 2. 1st row of all 3 arrays starting from 1st and ending with 3rd array\n",
    "#\n",
    "# \"rbind/cbind\" takes sequence of vector, matrix or data-frame arguments and combine them\n",
    "# by rows or columns. Take it as \"rowbind\" or \"columnbind\"\n",
    "# \"rep(x,y)\" is replicate\n",
    "# x = the thing you want to replicate\n",
    "# y = the number of times you want \"x\" replicated\n",
    "# \"t\" returns the transpose of dataframe value\n",
    "# transpose meaning to change places 2 or more things"
   ]
  },
  {
   "cell_type": "code",
   "execution_count": 4,
   "id": "51cd9f81",
   "metadata": {
    "scrolled": true
   },
   "outputs": [
    {
     "name": "stdout",
     "output_type": "stream",
     "text": [
      "[1] \"num1\"\n",
      "     [,1] [,2] [,3]\n",
      "[1,] \"A\"  \"A\"  \"A\" \n",
      "[2,] \"B\"  \"B\"  \"B\" \n",
      "[3,] \"C\"  \"C\"  \"C\" \n",
      "[1] \"num2\"\n",
      "     [,1] [,2] [,3]\n",
      "[1,] \"D\"  \"D\"  \"D\" \n",
      "[2,] \"E\"  \"E\"  \"E\" \n",
      "[3,] \"F\"  \"F\"  \"F\" \n",
      "[1] \"num3\"\n",
      "     [,1] [,2] [,3]\n",
      "[1,] \"G\"  \"G\"  \"G\" \n",
      "[2,] \"H\"  \"H\"  \"H\" \n",
      "[3,] \"I\"  \"I\"  \"I\" \n",
      "\n",
      "      [,1] [,2] [,3]\n",
      " [1,] \"A\"  \"A\"  \"A\" \n",
      " [2,] \"D\"  \"D\"  \"D\" \n",
      " [3,] \"G\"  \"G\"  \"G\" \n",
      " [4,] \"B\"  \"B\"  \"B\" \n",
      " [5,] \"E\"  \"E\"  \"E\" \n",
      " [6,] \"H\"  \"H\"  \"H\" \n",
      " [7,] \"C\"  \"C\"  \"C\" \n",
      " [8,] \"F\"  \"F\"  \"F\" \n",
      " [9,] \"I\"  \"I\"  \"I\" \n"
     ]
    }
   ],
   "source": [
    "num1 = rbind(rep(\"A\", 3), rep(\"B\", 3), rep(\"C\", 3))\n",
    "print(\"num1\")\n",
    "print(num1)\n",
    "num2 = rbind(rep(\"D\", 3), rep(\"E\", 3), rep(\"F\", 3))\n",
    "print(\"num2\")\n",
    "print(num2)\n",
    "num3 = rbind(rep(\"G\", 3), rep(\"H\", 3), rep(\"I\", 3))\n",
    "print(\"num3\")\n",
    "print(num3)\n",
    "\n",
    "cat(\"\\n\")\n",
    "a = matrix(t(cbind(num1,num2,num3)), ncol = 3, byrow = T)\n",
    "print(a)"
   ]
  },
  {
   "cell_type": "markdown",
   "id": "accbe220",
   "metadata": {},
   "source": [
    " "
   ]
  },
  {
   "cell_type": "markdown",
   "id": "50da5fa3",
   "metadata": {},
   "source": [
    "## 6. Write a R program to create an array using four given columns, three given rows, and two given tables and display the content of the array"
   ]
  },
  {
   "cell_type": "code",
   "execution_count": 14,
   "id": "ea6cb0a2",
   "metadata": {},
   "outputs": [],
   "source": [
    "# Requirements:\n",
    "# 1. Create an array using 4 columns, 3 rows, 2 tables\n",
    "# 2. Display the content of the array"
   ]
  },
  {
   "cell_type": "code",
   "execution_count": 16,
   "id": "0dc73ea1",
   "metadata": {},
   "outputs": [
    {
     "name": "stdout",
     "output_type": "stream",
     "text": [
      ", , 1\n",
      "\n",
      "     [,1] [,2] [,3] [,4]\n",
      "[1,]    1    4    7   10\n",
      "[2,]    2    5    8   11\n",
      "[3,]    3    6    9   12\n",
      "\n",
      ", , 2\n",
      "\n",
      "     [,1] [,2] [,3] [,4]\n",
      "[1,]   13   16   19   22\n",
      "[2,]   14   17   20   23\n",
      "[3,]   15   18   21   24\n",
      "\n"
     ]
    }
   ],
   "source": [
    "# 3 rows\n",
    "# 4 columns\n",
    "# 2 instances/tables\n",
    "ar = array(1:50, dim = c(3,4,2))\n",
    "\n",
    "print(ar)"
   ]
  },
  {
   "cell_type": "markdown",
   "id": "2697be07",
   "metadata": {},
   "source": [
    " "
   ]
  },
  {
   "cell_type": "markdown",
   "id": "032965e9",
   "metadata": {},
   "source": [
    "## 7. Write a R program to create a two-dimensional 5x3 array of sequence of even integers greater than 50"
   ]
  },
  {
   "cell_type": "code",
   "execution_count": 36,
   "id": "3d3b2d29",
   "metadata": {},
   "outputs": [],
   "source": [
    "# Requirements:\n",
    "# 1. Create 2D 5x3 array of sequence of even numbers greater than 50\n",
    "#\n",
    "# \"length.out\" is the desired length of the sequence"
   ]
  },
  {
   "cell_type": "code",
   "execution_count": 39,
   "id": "5b789ad2",
   "metadata": {
    "scrolled": false
   },
   "outputs": [
    {
     "name": "stdout",
     "output_type": "stream",
     "text": [
      "[1] \"Content of the Array:\"\n",
      "[1] \"5x3 array of sequence of even integers greater than 50:\"\n",
      "     [,1] [,2] [,3]\n",
      "[1,]   50   60   70\n",
      "[2,]   52   62   72\n",
      "[3,]   54   64   74\n",
      "[4,]   56   66   76\n",
      "[5,]   58   68   78\n"
     ]
    }
   ],
   "source": [
    "ar = array(seq(50, length.out = 100, by = 2), c(5,3))\n",
    "print(\"Content of the Array:\")\n",
    "print(\"5x3 array of sequence of even integers greater than 50:\")\n",
    "print(ar)"
   ]
  }
 ],
 "metadata": {
  "kernelspec": {
   "display_name": "R",
   "language": "R",
   "name": "ir"
  },
  "language_info": {
   "codemirror_mode": "r",
   "file_extension": ".r",
   "mimetype": "text/x-r-source",
   "name": "R",
   "pygments_lexer": "r",
   "version": "3.6.1"
  }
 },
 "nbformat": 4,
 "nbformat_minor": 5
}
